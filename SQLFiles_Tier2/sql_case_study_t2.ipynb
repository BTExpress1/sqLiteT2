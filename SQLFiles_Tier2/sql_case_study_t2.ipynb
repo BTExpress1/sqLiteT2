{
 "cells": [
  {
   "cell_type": "code",
   "execution_count": 1,
   "id": "43e76b69-ab54-4219-b391-c48c67fe256e",
   "metadata": {},
   "outputs": [
    {
     "name": "stdout",
     "output_type": "stream",
     "text": [
      "2.6.0\n",
      "2. Query all tasks\n",
      "(0, 'Tennis Court 1', 5, 25, 10000, 200)\n",
      "(1, 'Tennis Court 2', 5, 25, 8000, 200)\n",
      "(2, 'Badminton Court', 0, 15.5, 4000, 50)\n",
      "(3, 'Table Tennis', 0, 5, 320, 10)\n",
      "(4, 'Massage Room 1', 9.9, 80, 4000, 3000)\n",
      "(5, 'Massage Room 2', 9.9, 80, 4000, 3000)\n",
      "(6, 'Squash Court', 3.5, 17.5, 5000, 80)\n",
      "(7, 'Snooker Table', 0, 5, 450, 15)\n",
      "(8, 'Pool Table', 0, 5, 400, 15)\n"
     ]
    },
    {
     "name": "stderr",
     "output_type": "stream",
     "text": [
      "C:\\cygwin64\\tmp\\ipykernel_60872\\4020859373.py:14: DeprecationWarning: version is deprecated and will be removed in Python 3.14\n",
      "  print(sqlite3.version)\n"
     ]
    }
   ],
   "source": [
    "import sqlite3\n",
    "from sqlite3 import Error\n",
    "\n",
    " \n",
    "def create_connection(db_file):\n",
    "    \"\"\" create a database connection to the SQLite database\n",
    "        specified by the db_file\n",
    "    :param db_file: database file\n",
    "    :return: Connection object or None\n",
    "    \"\"\"\n",
    "    conn = None\n",
    "    try:\n",
    "        conn = sqlite3.connect(db_file)\n",
    "        print(sqlite3.version)\n",
    "    except Error as e:\n",
    "        print(e)\n",
    " \n",
    "    return conn\n",
    "\n",
    " \n",
    "def select_all_tasks(conn):\n",
    "    \"\"\"\n",
    "    Query all rows in the tasks table\n",
    "    :param conn: the Connection object\n",
    "    :return:\n",
    "    \"\"\"\n",
    "    cur = conn.cursor()\n",
    "    \n",
    "    query1 = \"\"\"\n",
    "        SELECT *\n",
    "        FROM FACILITIES\n",
    "        \"\"\"\n",
    "    cur.execute(query1)\n",
    " \n",
    "    rows = cur.fetchall()\n",
    " \n",
    "    for row in rows:\n",
    "        print(row)\n",
    "\n",
    "\n",
    "def main():\n",
    "    database = \"sqlite_db_pythonsqlite.db\"\n",
    " \n",
    "    # create a database connection\n",
    "    conn = create_connection(database)\n",
    "    with conn: \n",
    "        print(\"2. Query all tasks\")\n",
    "        select_all_tasks(conn)\n",
    " \n",
    " \n",
    "if __name__ == '__main__':\n",
    "    main()\n",
    "\n",
    "def select_query(conn, param):\n",
    "    \"\"\"\n",
    "    Executes a SQL query from a string.\n",
    "\n",
    "    :param conn: the Connection object\n",
    "    :param param: The SQL query string\n",
    "    :return: A list of tuples representing the query results, or None if an error occurs.\n",
    "    \"\"\"\n",
    "    try:\n",
    "        cur = conn.cursor()\n",
    "        cur.execute(param)  # Execute the query directly\n",
    "        rows = cur.fetchall()\n",
    "        return rows  # Return the results\n",
    "    except sqlite3.Error as e:  # Catch potential SQLite errors\n",
    "        print(f\"SQLite error: {e}\")  # Print the error message\n",
    "        return None  # Return None to indicate failure\n",
    "    except Exception as e: # Catch other potential errors, such as syntax errors in the query\n",
    "        print(f\"An error occurred: {e}\")\n",
    "        return None"
   ]
  },
  {
   "cell_type": "code",
   "execution_count": null,
   "id": "bd287a6b-e1b8-4fd8-84cb-dd4f30f0ce5c",
   "metadata": {},
   "outputs": [],
   "source": [
    "def get_table_names(conn):\n",
    "    \"\"\"Retrieves a list of table names from the database.\"\"\"\n",
    "    cursor = conn.cursor()\n",
    "    cursor.execute(\"SELECT name FROM sqlite_master WHERE type='table';\")\n",
    "    tables = [table[0] for table in cursor.fetchall()]  # Extract table names from tuples\n",
    "    return tables\n",
    "\n",
    "def get_column_names(conn, table_name):\n",
    "    \"\"\"Retrieves a list of column names for a given table.\"\"\"\n",
    "    cursor = conn.cursor()\n",
    "    try:\n",
    "        cursor.execute(f\"PRAGMA table_info({table_name});\")\n",
    "        columns = [column[1] for column in cursor.fetchall()]  # Extract column names\n",
    "        return columns\n",
    "    except sqlite3.OperationalError as e: # Handle the case where the table doesn't exist\n",
    "        print(f\"Error getting columns for table '{table_name}': {e}\")\n",
    "        return None\n",
    "\n",
    "        \n",
    "def run_query(query):\n",
    "    try:     \n",
    "        database = \"sqlite_db_pythonsqlite.db\"\n",
    "        conn = create_connection(database)  # Connect to the database\n",
    "\n",
    "        # Example 1: Simple SELECT query\n",
    "        #query1 = \"SELECT name FROM sqlite_master WHERE type='table';\"  \n",
    "        results1 = select_query(conn, query)\n",
    "\n",
    "        if results1:\n",
    "            for row in results1:\n",
    "                print(row)\n",
    "\n",
    "    except sqlite3.Error as e:\n",
    "        print(f\"Database connection error: {e}\")\n",
    "    finally:\n",
    "        if conn:\n",
    "            conn.close()  # Close the connection in a 'finally' block\n",
    "\n",
    "def table_details():\n",
    "    try:\n",
    "        database = \"sqlite_db_pythonsqlite.db\"\n",
    "        conn = create_connection(database)  # Connect to the database\n",
    "\n",
    "        table_names = get_table_names(conn)\n",
    "\n",
    "        if table_names:\n",
    "            for table_name in table_names:\n",
    "                column_names = get_column_names(conn, table_name)\n",
    "                if column_names:\n",
    "                    print(f\"Columns for table '{table_name}': {', '.join(column_names)}\")\n",
    "                else:\n",
    "                    print(f\"Could not retrieve columns for table '{table_name}'.\") # Handle the case where get_column_names returns None\n",
    "        else:\n",
    "            print(\"No tables found in the database.\")\n",
    "\n",
    "    except sqlite3.Error as e:\n",
    "        print(f\"Database error: {e}\")\n",
    "    finally:\n",
    "        if conn:\n",
    "            conn.close()\n",
    "    \n",
    "    "
   ]
  },
  {
   "cell_type": "code",
   "execution_count": 3,
   "id": "e5e5f155-f915-41e0-b217-6a36ed87b5ad",
   "metadata": {},
   "outputs": [
    {
     "name": "stdout",
     "output_type": "stream",
     "text": [
      "Columns for table 'Bookings': bookid, facid, memid, starttime, slots\n",
      "Columns for table 'Facilities': facid, name, membercost, guestcost, initialoutlay, monthlymaintenance\n",
      "Columns for table 'Members': memid, surname, firstname, address, zipcode, telephone, recommendedby, joindate\n"
     ]
    }
   ],
   "source": [
    "table_details()"
   ]
  },
  {
   "cell_type": "markdown",
   "id": "0365f764-7a9f-4366-b9eb-96d1daa3941a",
   "metadata": {},
   "source": [
    "### Q10"
   ]
  },
  {
   "cell_type": "code",
   "execution_count": 23,
   "id": "584f8449-15a3-470b-9d42-cc4a8130c0f9",
   "metadata": {},
   "outputs": [
    {
     "name": "stdout",
     "output_type": "stream",
     "text": [
      "2.6.0\n",
      "('Pool Table', 5)\n",
      "('Snooker Table', 5)\n",
      "('Table Tennis', 5)\n",
      "('Badminton Court', 15.5)\n",
      "('Squash Court', 21.0)\n",
      "('Tennis Court 1', 30)\n",
      "('Tennis Court 2', 30)\n",
      "('Massage Room 1', 89.9)\n",
      "('Massage Room 2', 89.9)\n"
     ]
    },
    {
     "name": "stderr",
     "output_type": "stream",
     "text": [
      "C:\\cygwin64\\tmp\\ipykernel_60872\\4020859373.py:14: DeprecationWarning: version is deprecated and will be removed in Python 3.14\n",
      "  print(sqlite3.version)\n"
     ]
    }
   ],
   "source": [
    "query = \"SELECT name, SUM(membercost + guestcost) AS total_revenue FROM Facilities GROUP BY name HAVING SUM(membercost +guestcost) < 1000 ORDER BY total_revenue;\"\n",
    "run_query(query)"
   ]
  },
  {
   "cell_type": "markdown",
   "id": "5952d9bf-b61d-4cc0-8e6a-07cd4e68d0bd",
   "metadata": {},
   "source": [
    "### Q11"
   ]
  },
  {
   "cell_type": "code",
   "execution_count": 24,
   "id": "0ea9485c-91ab-4f6f-848a-01d4e3838c0b",
   "metadata": {},
   "outputs": [
    {
     "name": "stdout",
     "output_type": "stream",
     "text": [
      "2.6.0\n",
      "('Bader', 'Florence', '9')\n",
      "('Baker', 'Anne', '9')\n",
      "('Baker', 'Timothy', '13')\n",
      "('Boothe', 'Tim', '3')\n",
      "('Butters', 'Gerald', '1')\n",
      "('Coplin', 'Joan', '16')\n",
      "('Crumpet', 'Erica', '2')\n",
      "('Dare', 'Nancy', '4')\n",
      "('Farrell', 'David', '')\n",
      "('Farrell', 'Jemima', '')\n",
      "('GUEST', 'GUEST', '')\n",
      "('Genting', 'Matthew', '5')\n",
      "('Hunt', 'John', '30')\n",
      "('Jones', 'David', '4')\n",
      "('Jones', 'Douglas', '11')\n",
      "('Joplette', 'Janice', '1')\n",
      "('Mackenzie', 'Anna', '1')\n",
      "('Owen', 'Charles', '1')\n",
      "('Pinker', 'David', '13')\n",
      "('Purview', 'Millicent', '2')\n",
      "('Rownam', 'Tim', '')\n",
      "('Rumney', 'Henrietta', '20')\n",
      "('Sarwin', 'Ramnaresh', '15')\n",
      "('Smith', 'Darren', '')\n",
      "('Smith', 'Darren', '')\n",
      "('Smith', 'Jack', '1')\n",
      "('Smith', 'Tracy', '')\n",
      "('Stibbons', 'Ponder', '6')\n",
      "('Tracy', 'Burton', '')\n",
      "('Tupperware', 'Hyacinth', '')\n",
      "('Worthington-Smyth', 'Henry', '2')\n"
     ]
    },
    {
     "name": "stderr",
     "output_type": "stream",
     "text": [
      "C:\\cygwin64\\tmp\\ipykernel_60872\\4020859373.py:14: DeprecationWarning: version is deprecated and will be removed in Python 3.14\n",
      "  print(sqlite3.version)\n"
     ]
    }
   ],
   "source": [
    "query = \"SELECT surname, firstname, recommendedby FROM Members ORDER BY surname, firstname;\"\n",
    "run_query(query)"
   ]
  },
  {
   "cell_type": "markdown",
   "id": "618c6d85-f07e-45a9-9c42-7f54fd1c5cf1",
   "metadata": {},
   "source": [
    "### Q12"
   ]
  },
  {
   "cell_type": "code",
   "execution_count": 18,
   "id": "0ec54a7c-1f3b-422a-92c2-9d03ff6c3083",
   "metadata": {},
   "outputs": [
    {
     "name": "stdout",
     "output_type": "stream",
     "text": [
      "2.6.0\n",
      "('Massage Room 1', 1404)\n",
      "('Tennis Court 1', 1320)\n",
      "('Tennis Court 2', 1278)\n",
      "('Badminton Court', 1209)\n",
      "('Squash Court', 1104)\n",
      "('Pool Table', 910)\n",
      "('Snooker Table', 908)\n",
      "('Table Tennis', 830)\n",
      "('Massage Room 2', 228)\n"
     ]
    },
    {
     "name": "stderr",
     "output_type": "stream",
     "text": [
      "C:\\cygwin64\\tmp\\ipykernel_60872\\4020859373.py:14: DeprecationWarning: version is deprecated and will be removed in Python 3.14\n",
      "  print(sqlite3.version)\n"
     ]
    }
   ],
   "source": [
    "query = \"SELECT f.name, SUM(b.slots) AS member_usage FROM Bookings AS b JOIN Facilities AS f ON b.facid = f.facid JOIN Members AS m ON b.memid = m.memid WHERE b.memid IS NOT NULL GROUP BY f.name ORDER BY member_usage DESC;\"\n",
    "run_query(query)"
   ]
  },
  {
   "cell_type": "markdown",
   "id": "85bfea26-7166-4857-978e-b75118aaee59",
   "metadata": {},
   "source": [
    "### Q13"
   ]
  },
  {
   "cell_type": "code",
   "execution_count": 22,
   "id": "9168a307-d5a4-47ce-8714-961557e093a6",
   "metadata": {},
   "outputs": [
    {
     "name": "stdout",
     "output_type": "stream",
     "text": [
      "2.6.0\n",
      "('Tennis Court 1', '2012-07', 270)\n",
      "('Massage Room 1', '2012-07', 264)\n",
      "('Tennis Court 2', '2012-07', 207)\n",
      "('Badminton Court', '2012-07', 180)\n",
      "('Squash Court', '2012-07', 164)\n",
      "('Snooker Table', '2012-07', 156)\n",
      "('Pool Table', '2012-07', 117)\n",
      "('Table Tennis', '2012-07', 104)\n",
      "('Massage Room 2', '2012-07', 24)\n",
      "('Massage Room 1', '2012-08', 492)\n",
      "('Tennis Court 2', '2012-08', 483)\n",
      "('Badminton Court', '2012-08', 459)\n",
      "('Tennis Court 1', '2012-08', 459)\n",
      "('Squash Court', '2012-08', 400)\n",
      "('Snooker Table', '2012-08', 326)\n",
      "('Pool Table', '2012-08', 322)\n",
      "('Table Tennis', '2012-08', 304)\n",
      "('Massage Room 2', '2012-08', 82)\n",
      "('Massage Room 1', '2012-09', 648)\n",
      "('Tennis Court 1', '2012-09', 591)\n",
      "('Tennis Court 2', '2012-09', 588)\n",
      "('Badminton Court', '2012-09', 570)\n",
      "('Squash Court', '2012-09', 540)\n",
      "('Pool Table', '2012-09', 471)\n",
      "('Snooker Table', '2012-09', 426)\n",
      "('Table Tennis', '2012-09', 422)\n",
      "('Massage Room 2', '2012-09', 122)\n"
     ]
    },
    {
     "name": "stderr",
     "output_type": "stream",
     "text": [
      "C:\\cygwin64\\tmp\\ipykernel_60872\\4020859373.py:14: DeprecationWarning: version is deprecated and will be removed in Python 3.14\n",
      "  print(sqlite3.version)\n"
     ]
    }
   ],
   "source": [
    "query = \"SELECT f.name, strftime('%Y-%m', b.starttime) AS booking_month,  SUM(b.slots) AS member_usage FROM Bookings AS b JOIN Facilities AS f ON b.facid = f.facid JOIN Members AS m ON b.memid = m.memid WHERE b.memid IS NOT NULL GROUP BY f.name, booking_month ORDER BY booking_month, member_usage DESC;\"\n",
    "run_query(query)"
   ]
  },
  {
   "cell_type": "code",
   "execution_count": null,
   "id": "63a5d6a2-8dc4-40e6-a892-b9c8b7828784",
   "metadata": {},
   "outputs": [],
   "source": []
  }
 ],
 "metadata": {
  "kernelspec": {
   "display_name": "Python 3 (ipykernel)",
   "language": "python",
   "name": "python3"
  },
  "language_info": {
   "codemirror_mode": {
    "name": "ipython",
    "version": 3
   },
   "file_extension": ".py",
   "mimetype": "text/x-python",
   "name": "python",
   "nbconvert_exporter": "python",
   "pygments_lexer": "ipython3",
   "version": "3.13.1"
  }
 },
 "nbformat": 4,
 "nbformat_minor": 5
}
